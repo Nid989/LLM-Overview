{
  "nbformat": 4,
  "nbformat_minor": 0,
  "metadata": {
    "colab": {
      "provenance": [],
      "authorship_tag": "ABX9TyPB3cmRB49z/vWCRHbGHv85",
      "include_colab_link": true
    },
    "kernelspec": {
      "name": "python3",
      "display_name": "Python 3"
    },
    "language_info": {
      "name": "python"
    }
  },
  "cells": [
    {
      "cell_type": "markdown",
      "metadata": {
        "id": "view-in-github",
        "colab_type": "text"
      },
      "source": [
        "<a href=\"https://colab.research.google.com/github/Nid989/Langchain-Overview/blob/main/langchain_prompt_%26_llm.ipynb\" target=\"_parent\"><img src=\"https://colab.research.google.com/assets/colab-badge.svg\" alt=\"Open In Colab\"/></a>"
      ]
    },
    {
      "cell_type": "code",
      "source": [
        "!pip install langchain openai python-dotenv --quiet"
      ],
      "metadata": {
        "id": "a49Vq1gLFckx"
      },
      "execution_count": 1,
      "outputs": []
    },
    {
      "cell_type": "code",
      "execution_count": 2,
      "metadata": {
        "colab": {
          "base_uri": "https://localhost:8080/"
        },
        "id": "zvMD_m79FMW5",
        "outputId": "a069917c-8ef0-4de4-ad79-68e88f5cecd8"
      },
      "outputs": [
        {
          "output_type": "execute_result",
          "data": {
            "text/plain": [
              "True"
            ]
          },
          "metadata": {},
          "execution_count": 2
        }
      ],
      "source": [
        "import os\n",
        "import dotenv\n",
        "from langchain.prompts import ChatPromptTemplate\n",
        "from langchain.chat_models import ChatOpenAI\n",
        "from langchain.schema.output_parser import  StrOutputParser\n",
        "from langchain.output_parsers.openai_functions import (\n",
        "    JsonOutputFunctionsParser,\n",
        "    JsonKeyOutputFunctionsParser\n",
        ")\n",
        "from langchain.schema.runnable import RunnableMap, RunnablePassthrough\n",
        "\n",
        "dotenv.load_dotenv(\"./.env.txt\")"
      ]
    },
    {
      "cell_type": "markdown",
      "source": [
        "`PromptTemplate` + `LLM`"
      ],
      "metadata": {
        "id": "ue7XtNHAK_7d"
      }
    },
    {
      "cell_type": "code",
      "source": [
        "# PromptTemplate\n",
        "prompt = ChatPromptTemplate.from_template(\"tell me a joke about {foo}\")\n",
        "\n",
        "# LLM\n",
        "model = ChatOpenAI(openai_api_key=os.environ.get(\"OPENAI_API_KEY\"))\n",
        "\n",
        "# Chain: that takes user input, adds it to a prompt, passes it to a model,\n",
        "# and returns the raw model output.\n",
        "chain = prompt | model"
      ],
      "metadata": {
        "id": "RSaQZC3cFot_"
      },
      "execution_count": 3,
      "outputs": []
    },
    {
      "cell_type": "code",
      "source": [
        "chain.invoke({\"foo\": \"bears\"})"
      ],
      "metadata": {
        "colab": {
          "base_uri": "https://localhost:8080/"
        },
        "id": "Z1SnQ377FtAP",
        "outputId": "a079be22-05d4-45c5-a81a-5c1eddc6c50c"
      },
      "execution_count": 4,
      "outputs": [
        {
          "output_type": "execute_result",
          "data": {
            "text/plain": [
              "AIMessage(content=\"Why don't bears wear shoes?\\n\\nBecause they have bear feet!\")"
            ]
          },
          "metadata": {},
          "execution_count": 4
        }
      ]
    },
    {
      "cell_type": "code",
      "source": [
        "# Attaching stop sequences\n",
        "chain = prompt | model.bind(stop=[\"\\n\"])"
      ],
      "metadata": {
        "id": "wut_MKJ6FuGo"
      },
      "execution_count": 5,
      "outputs": []
    },
    {
      "cell_type": "code",
      "source": [
        "chain.invoke({\"foo\": \"bears\"})"
      ],
      "metadata": {
        "colab": {
          "base_uri": "https://localhost:8080/"
        },
        "id": "gspvjU5WHw3s",
        "outputId": "6cdc8233-d66e-4f59-f19d-bbb4090ece34"
      },
      "execution_count": 7,
      "outputs": [
        {
          "output_type": "execute_result",
          "data": {
            "text/plain": [
              "AIMessage(content=\"Why don't bears wear shoes?\")"
            ]
          },
          "metadata": {},
          "execution_count": 7
        }
      ]
    },
    {
      "cell_type": "code",
      "source": [
        "# Attaching function call information\n",
        "functions = [\n",
        "    {\n",
        "        \"name\": \"joke\",\n",
        "        \"description\": \"A joke\",\n",
        "        \"parameters\": {\n",
        "            \"type\": \"object\",\n",
        "            \"properties\": {\n",
        "                \"setup\": {\n",
        "                    \"type\": \"string\",\n",
        "                    \"description\": \"The setup for the joke\"\n",
        "                },\n",
        "                \"punchline\": {\n",
        "                    \"type\": \"string\",\n",
        "                    \"description\": \"The punchline for the joke\"\n",
        "                }\n",
        "            },\n",
        "            \"required\": [\"setup\", \"punchline\"]\n",
        "        }\n",
        "    }\n",
        "]\n",
        "chain = prompt | model.bind(function_call = {\"name\": \"joke\"}, functions=functions)"
      ],
      "metadata": {
        "id": "q8oirjSyK5ad"
      },
      "execution_count": 8,
      "outputs": []
    },
    {
      "cell_type": "code",
      "source": [
        "chain.invoke({\"foo\": \"bears\"}, config={})"
      ],
      "metadata": {
        "colab": {
          "base_uri": "https://localhost:8080/"
        },
        "id": "fCYERD_IOfPb",
        "outputId": "fea209fd-28eb-465f-fadf-ba61432765f5"
      },
      "execution_count": 9,
      "outputs": [
        {
          "output_type": "execute_result",
          "data": {
            "text/plain": [
              "AIMessage(content='', additional_kwargs={'function_call': {'name': 'joke', 'arguments': '{\\n  \"setup\": \"Why don\\'t bears like fast food?\",\\n  \"punchline\": \"Because they can\\'t catch it!\"\\n}'}})"
            ]
          },
          "metadata": {},
          "execution_count": 9
        }
      ]
    },
    {
      "cell_type": "markdown",
      "source": [
        "`PromptTemplate` + `LLM` + `OutputParser`"
      ],
      "metadata": {
        "id": "17aISJFpOnei"
      }
    },
    {
      "cell_type": "code",
      "source": [
        "# Addition of an output parser to easily transform the raw LLM/ChatModel output\n",
        "# into a more workable format.\n",
        "chain = prompt | model | StrOutputParser()"
      ],
      "metadata": {
        "id": "8yRbKVsOOiY4"
      },
      "execution_count": 10,
      "outputs": []
    },
    {
      "cell_type": "code",
      "source": [
        "chain.invoke({\"foo\": \"bears\"})"
      ],
      "metadata": {
        "colab": {
          "base_uri": "https://localhost:8080/",
          "height": 36
        },
        "id": "f2-dQwWEPOEe",
        "outputId": "e54bb1fb-5906-4ba8-d43e-9598541da47e"
      },
      "execution_count": 11,
      "outputs": [
        {
          "output_type": "execute_result",
          "data": {
            "text/plain": [
              "\"Why don't bears wear shoes? \\n\\nBecause they already have bear feet!\""
            ],
            "application/vnd.google.colaboratory.intrinsic+json": {
              "type": "string"
            }
          },
          "metadata": {},
          "execution_count": 11
        }
      ]
    },
    {
      "cell_type": "code",
      "source": [
        "# Functions Output Parser\n",
        "chain = (\n",
        "    prompt\n",
        "    | model.bind(function_call={\"name\": \"joke\"}, functions=functions)\n",
        "    | JsonOutputFunctionsParser()\n",
        ")"
      ],
      "metadata": {
        "id": "BcYJecFYPjWd"
      },
      "execution_count": 12,
      "outputs": []
    },
    {
      "cell_type": "code",
      "source": [
        "chain.invoke({\"foo\": \"bears\"})"
      ],
      "metadata": {
        "colab": {
          "base_uri": "https://localhost:8080/"
        },
        "id": "W7iSat5DP9iK",
        "outputId": "e1f29fd9-ddfa-49f7-8b2b-4a3bb267ec43"
      },
      "execution_count": 13,
      "outputs": [
        {
          "output_type": "execute_result",
          "data": {
            "text/plain": [
              "{'setup': \"Why don't bears like fast food?\",\n",
              " 'punchline': \"Because they can't catch it!\"}"
            ]
          },
          "metadata": {},
          "execution_count": 13
        }
      ]
    },
    {
      "cell_type": "code",
      "source": [
        "chain = (\n",
        "    prompt\n",
        "    | model.bind(function_call={\"name\": \"joke\"}, functions=functions)\n",
        "    | JsonKeyOutputFunctionsParser(key_name=\"setup\")\n",
        ")"
      ],
      "metadata": {
        "id": "KcQxZbQgP_hy"
      },
      "execution_count": 14,
      "outputs": []
    },
    {
      "cell_type": "code",
      "source": [
        "chain.invoke({\"foo\": \"bears\"})"
      ],
      "metadata": {
        "colab": {
          "base_uri": "https://localhost:8080/",
          "height": 36
        },
        "id": "08hwjzkwQdeu",
        "outputId": "67f3a875-1327-4c4a-d82e-b2f9a65391e0"
      },
      "execution_count": 15,
      "outputs": [
        {
          "output_type": "execute_result",
          "data": {
            "text/plain": [
              "\"Why don't bears wear shoes?\""
            ],
            "application/vnd.google.colaboratory.intrinsic+json": {
              "type": "string"
            }
          },
          "metadata": {},
          "execution_count": 15
        }
      ]
    },
    {
      "cell_type": "markdown",
      "source": [
        "`Simplifying Input`"
      ],
      "metadata": {
        "id": "8A-YeZCPQn3V"
      }
    },
    {
      "cell_type": "code",
      "source": [
        "# Takes care of creating the prompt input dict, thus making invocation even\n",
        "# simpler\n",
        "map_ = RunnableMap(foo=RunnablePassthrough())\n",
        "\n",
        "chain = (\n",
        "    map_\n",
        "    | prompt\n",
        "    | model.bind(function_call={\"name\": \"joke\"}, functions=functions)\n",
        "    | JsonKeyOutputFunctionsParser(key_name=\"setup\")\n",
        ")\n",
        "\n",
        "# OR instead of using 2 Runnable\n",
        "# chain = (\n",
        "#     {\"foo\": RunnablePassthrough()}\n",
        "#     | prompt\n",
        "#     | model.bind(function_call={\"name\": \"joke\"}, functions=functions)\n",
        "#     | JsonKeyOutputFunctionsParser(key_name=\"setup\")\n",
        "# )"
      ],
      "metadata": {
        "id": "RM9KPGYmQkf9"
      },
      "execution_count": 16,
      "outputs": []
    },
    {
      "cell_type": "code",
      "source": [
        "chain.invoke(\"bears\")"
      ],
      "metadata": {
        "colab": {
          "base_uri": "https://localhost:8080/",
          "height": 36
        },
        "id": "dqhqsZhLSODM",
        "outputId": "4a5c4177-df46-4b18-861b-76e15bfd7eaa"
      },
      "execution_count": 17,
      "outputs": [
        {
          "output_type": "execute_result",
          "data": {
            "text/plain": [
              "\"Why don't bears like fast food?\""
            ],
            "application/vnd.google.colaboratory.intrinsic+json": {
              "type": "string"
            }
          },
          "metadata": {},
          "execution_count": 17
        }
      ]
    }
  ]
}